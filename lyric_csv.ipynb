{
 "cells": [
  {
   "cell_type": "code",
   "execution_count": 1,
   "metadata": {},
   "outputs": [],
   "source": [
    "import xlrd\n",
    "import pymysql\n",
    "import math\n",
    "import pandas as pd\n",
    "from sqlalchemy import create_engine"
   ]
  },
  {
   "cell_type": "code",
   "execution_count": 2,
   "metadata": {},
   "outputs": [
    {
     "name": "stderr",
     "output_type": "stream",
     "text": [
      "/usr/local/lib/python3.7/site-packages/pymysql/cursors.py:170: Warning: (3719, \"'utf8' is currently an alias for the character set UTF8MB3, but will be an alias for UTF8MB4 in a future release. Please consider using UTF8MB4 in order to be unambiguous.\")\n",
      "  result = self._query(query)\n"
     ]
    },
    {
     "data": {
      "text/html": [
       "<div>\n",
       "<style scoped>\n",
       "    .dataframe tbody tr th:only-of-type {\n",
       "        vertical-align: middle;\n",
       "    }\n",
       "\n",
       "    .dataframe tbody tr th {\n",
       "        vertical-align: top;\n",
       "    }\n",
       "\n",
       "    .dataframe thead th {\n",
       "        text-align: right;\n",
       "    }\n",
       "</style>\n",
       "<table border=\"1\" class=\"dataframe\">\n",
       "  <thead>\n",
       "    <tr style=\"text-align: right;\">\n",
       "      <th></th>\n",
       "      <th>id</th>\n",
       "      <th>lyrics</th>\n",
       "    </tr>\n",
       "  </thead>\n",
       "  <tbody>\n",
       "    <tr>\n",
       "      <th>0</th>\n",
       "      <td>1</td>\n",
       "      <td>誰會知道 誰會在乎\\n危難裡 誰明白我孤苦\\n誰又看到 睏倦裡沒能力歡呼\\n誰願答應 不撇下...</td>\n",
       "    </tr>\n",
       "    <tr>\n",
       "      <th>1</th>\n",
       "      <td>2</td>\n",
       "      <td>昨天流落冰天雪地\\n無光線沒有生機\\n當我偶遇人間一個你\\n才真正發覺熱愛滋味\\n你的手能令...</td>\n",
       "    </tr>\n",
       "    <tr>\n",
       "      <th>2</th>\n",
       "      <td>3</td>\n",
       "      <td>遙看萬世戰爭已臨在這世代\\n同來儆醒謙卑等待主再來\\n離開魔鬼的試探定意悔改\\n一生忠誠傳講...</td>\n",
       "    </tr>\n",
       "    <tr>\n",
       "      <th>3</th>\n",
       "      <td>4</td>\n",
       "      <td>曾聽說稅吏遇見主\\n然後將一半財物施予\\n還有個孩童呈獻餅和魚\\n幾千人吃飽了還有餘\\n窮婦...</td>\n",
       "    </tr>\n",
       "    <tr>\n",
       "      <th>4</th>\n",
       "      <td>5</td>\n",
       "      <td>我的心要稱頌神毋忘記祂的一切厚恩\\n祂以大能醫治病困還願意赦免罪人\\n我說我心要感謝神常常述...</td>\n",
       "    </tr>\n",
       "    <tr>\n",
       "      <th>...</th>\n",
       "      <td>...</td>\n",
       "      <td>...</td>\n",
       "    </tr>\n",
       "    <tr>\n",
       "      <th>261817</th>\n",
       "      <td>293208</td>\n",
       "      <td>什麼時候兒時玩伴都離我遠去\\n什麼時候身旁的人已不再熟悉\\n人潮的擁擠　拉開了我們的距離\\n...</td>\n",
       "    </tr>\n",
       "    <tr>\n",
       "      <th>261818</th>\n",
       "      <td>293209</td>\n",
       "      <td>Op常夏\\n踩不完惱人舞步　喝不盡醉人醇酒\\n良夜有誰為我留　耳邊語輕柔\\n走不完紅男綠女　...</td>\n",
       "    </tr>\n",
       "    <tr>\n",
       "      <th>261819</th>\n",
       "      <td>293210</td>\n",
       "      <td>冬天的雪都開成了花\\n天上的星星都張開眼睛\\n森林的動物都走出山谷\\n彎曲的河流也變成彩虹\\...</td>\n",
       "    </tr>\n",
       "    <tr>\n",
       "      <th>261820</th>\n",
       "      <td>293211</td>\n",
       "      <td>良+林雨\\n從來不知你是何許人\\n也不知你從處來\\n每當我聽到你的歌聲\\n總感到無限的熟悉\\...</td>\n",
       "    </tr>\n",
       "    <tr>\n",
       "      <th>261821</th>\n",
       "      <td>293212</td>\n",
       "      <td>平安夜聖善夜\\n萬暗中光華射\\n照著聖母也照著聖嬰\\n多少慈祥也多少天真\\n靜享天賜安眠\\n...</td>\n",
       "    </tr>\n",
       "  </tbody>\n",
       "</table>\n",
       "<p>261822 rows × 2 columns</p>\n",
       "</div>"
      ],
      "text/plain": [
       "            id                                             lyrics\n",
       "0            1  誰會知道 誰會在乎\\n危難裡 誰明白我孤苦\\n誰又看到 睏倦裡沒能力歡呼\\n誰願答應 不撇下...\n",
       "1            2  昨天流落冰天雪地\\n無光線沒有生機\\n當我偶遇人間一個你\\n才真正發覺熱愛滋味\\n你的手能令...\n",
       "2            3  遙看萬世戰爭已臨在這世代\\n同來儆醒謙卑等待主再來\\n離開魔鬼的試探定意悔改\\n一生忠誠傳講...\n",
       "3            4  曾聽說稅吏遇見主\\n然後將一半財物施予\\n還有個孩童呈獻餅和魚\\n幾千人吃飽了還有餘\\n窮婦...\n",
       "4            5  我的心要稱頌神毋忘記祂的一切厚恩\\n祂以大能醫治病困還願意赦免罪人\\n我說我心要感謝神常常述...\n",
       "...        ...                                                ...\n",
       "261817  293208  什麼時候兒時玩伴都離我遠去\\n什麼時候身旁的人已不再熟悉\\n人潮的擁擠　拉開了我們的距離\\n...\n",
       "261818  293209  Op常夏\\n踩不完惱人舞步　喝不盡醉人醇酒\\n良夜有誰為我留　耳邊語輕柔\\n走不完紅男綠女　...\n",
       "261819  293210  冬天的雪都開成了花\\n天上的星星都張開眼睛\\n森林的動物都走出山谷\\n彎曲的河流也變成彩虹\\...\n",
       "261820  293211  良+林雨\\n從來不知你是何許人\\n也不知你從處來\\n每當我聽到你的歌聲\\n總感到無限的熟悉\\...\n",
       "261821  293212  平安夜聖善夜\\n萬暗中光華射\\n照著聖母也照著聖嬰\\n多少慈祥也多少天真\\n靜享天賜安眠\\n...\n",
       "\n",
       "[261822 rows x 2 columns]"
      ]
     },
     "execution_count": 2,
     "metadata": {},
     "output_type": "execute_result"
    }
   ],
   "source": [
    "conn = pymysql.connect(\n",
    "        host='localhost', \n",
    "        user='root', \n",
    "        passwd = 'fc117108',\n",
    "        db='music',\n",
    "        port=3306,\n",
    "        charset='utf8'\n",
    "        )\n",
    "cur = conn.cursor()\n",
    "cur.execute(\"SET NAMES utf8\")\n",
    "\n",
    "sql_cmd = \"SELECT * FROM music.ly;\"\n",
    "df = pd.read_sql(sql_cmd,conn)\n",
    "df\n"
   ]
  },
  {
   "cell_type": "code",
   "execution_count": 4,
   "metadata": {},
   "outputs": [],
   "source": [
    "df.to_csv('lyric.csv', index=False)  "
   ]
  },
  {
   "cell_type": "code",
   "execution_count": null,
   "metadata": {},
   "outputs": [],
   "source": []
  }
 ],
 "metadata": {
  "kernelspec": {
   "display_name": "Python 3",
   "language": "python",
   "name": "python3"
  },
  "language_info": {
   "codemirror_mode": {
    "name": "ipython",
    "version": 3
   },
   "file_extension": ".py",
   "mimetype": "text/x-python",
   "name": "python",
   "nbconvert_exporter": "python",
   "pygments_lexer": "ipython3",
   "version": "3.7.6"
  }
 },
 "nbformat": 4,
 "nbformat_minor": 4
}
